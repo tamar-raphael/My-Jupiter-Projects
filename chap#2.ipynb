{
 "cells": [
  {
   "cell_type": "markdown",
   "id": "d843a280",
   "metadata": {},
   "source": [
    "# First Assignment Of Python"
   ]
  },
  {
   "cell_type": "markdown",
   "id": "03e66811",
   "metadata": {},
   "source": [
    "## Program No1:"
   ]
  },
  {
   "cell_type": "code",
   "execution_count": 9,
   "id": "5d1f1a7c",
   "metadata": {},
   "outputs": [
    {
     "name": "stdout",
     "output_type": "stream",
     "text": [
      "enter the number of hours:35\n",
      "enter the rate per hours:2.75\n",
      "Gross pay:  96.25\n"
     ]
    }
   ],
   "source": [
    "#taking input from user\n",
    "hours=int(input(\"enter the number of hours:\"))\n",
    "rate_per_hours=float(input(\"enter the rate per hours:\"))\n",
    "#find the value of gross pay\n",
    "gross_pay=hours*rate_per_hours\n",
    "#print the value\n",
    "print(\"Gross pay: \",str(gross_pay))"
   ]
  },
  {
   "cell_type": "markdown",
   "id": "aa8e5af7",
   "metadata": {},
   "source": [
    "# Use of mnemonics\n",
    "## Example No1:"
   ]
  },
  {
   "cell_type": "code",
   "execution_count": 4,
   "id": "1466fd26",
   "metadata": {},
   "outputs": [
    {
     "name": "stdout",
     "output_type": "stream",
     "text": [
      "437.5\n",
      "437.5\n"
     ]
    }
   ],
   "source": [
    "#can't recognise what going on\n",
    "#1\n",
    "x1q3z9ocd = 35.0\n",
    "x1q3z9afd = 12.50\n",
    "x1q3p9afd = x1q3z9ocd * x1q3z9afd\n",
    "print(x1q3p9afd)\n",
    "#2\n",
    "a = 35.0\n",
    "b = 12.50\n",
    "c = a * b\n",
    "print(c)"
   ]
  },
  {
   "cell_type": "code",
   "execution_count": 5,
   "id": "53962c74",
   "metadata": {},
   "outputs": [
    {
     "name": "stdout",
     "output_type": "stream",
     "text": [
      "437.5\n"
     ]
    }
   ],
   "source": [
    "#here we can easily check what's happening\n",
    "hours = 35.0\n",
    "rate = 12.50\n",
    "pay = hours * rate\n",
    "print(pay)"
   ]
  },
  {
   "cell_type": "markdown",
   "id": "c4b9cfbe",
   "metadata": {},
   "source": [
    "## Example No2:"
   ]
  },
  {
   "cell_type": "code",
   "execution_count": 6,
   "id": "f535c7ce",
   "metadata": {},
   "outputs": [
    {
     "name": "stdout",
     "output_type": "stream",
     "text": [
      "11.0\n"
     ]
    }
   ],
   "source": [
    "#Highest precedence rule to lowest precedence rule:\n",
    "#Parenthesesare always respected\n",
    "#Exponentiation (raise to a power)\n",
    "#Multiplication, Division, and Remainder\n",
    "#Addition and Subtraction\n",
    "#Left to right\n",
    "x= 1 + 2 ** 3 / 4 * 5\n",
    "print(x)"
   ]
  },
  {
   "cell_type": "markdown",
   "id": "81d15a2b",
   "metadata": {},
   "source": [
    "# Conversion:"
   ]
  },
  {
   "cell_type": "markdown",
   "id": "b8e0038f",
   "metadata": {},
   "source": [
    "## Exmaple No3:"
   ]
  },
  {
   "cell_type": "code",
   "execution_count": 10,
   "id": "97a7fd40",
   "metadata": {},
   "outputs": [
    {
     "name": "stdout",
     "output_type": "stream",
     "text": [
      "15678.0\n"
     ]
    }
   ],
   "source": [
    "print(float(234)*67)"
   ]
  },
  {
   "cell_type": "code",
   "execution_count": 11,
   "id": "cd9c8fc1",
   "metadata": {},
   "outputs": [
    {
     "data": {
      "text/plain": [
       "float"
      ]
     },
     "execution_count": 11,
     "metadata": {},
     "output_type": "execute_result"
    }
   ],
   "source": [
    "a=6478.756\n",
    "type(a)"
   ]
  },
  {
   "cell_type": "code",
   "execution_count": 13,
   "id": "ef39ac42",
   "metadata": {},
   "outputs": [
    {
     "name": "stdout",
     "output_type": "stream",
     "text": [
      "6478\n"
     ]
    }
   ],
   "source": [
    "i=int(a)\n",
    "print(i)"
   ]
  },
  {
   "cell_type": "code",
   "execution_count": 14,
   "id": "7e29f581",
   "metadata": {},
   "outputs": [
    {
     "data": {
      "text/plain": [
       "int"
      ]
     },
     "execution_count": 14,
     "metadata": {},
     "output_type": "execute_result"
    }
   ],
   "source": [
    "type(i)"
   ]
  },
  {
   "cell_type": "markdown",
   "id": "dc4b6c27",
   "metadata": {},
   "source": [
    "# String Conversion"
   ]
  },
  {
   "cell_type": "markdown",
   "id": "9a532b98",
   "metadata": {},
   "source": [
    "## Example No4:"
   ]
  },
  {
   "cell_type": "code",
   "execution_count": 17,
   "id": "cf7867ab",
   "metadata": {},
   "outputs": [
    {
     "data": {
      "text/plain": [
       "str"
      ]
     },
     "execution_count": 17,
     "metadata": {},
     "output_type": "execute_result"
    }
   ],
   "source": [
    "sval= '123'\n",
    "type(sval)"
   ]
  },
  {
   "cell_type": "code",
   "execution_count": 18,
   "id": "91c81d8a",
   "metadata": {},
   "outputs": [
    {
     "ename": "TypeError",
     "evalue": "can only concatenate str (not \"int\") to str",
     "output_type": "error",
     "traceback": [
      "\u001b[1;31m---------------------------------------------------------------------------\u001b[0m",
      "\u001b[1;31mTypeError\u001b[0m                                 Traceback (most recent call last)",
      "\u001b[1;32m~\\AppData\\Local\\Temp\\ipykernel_9296\\4242456960.py\u001b[0m in \u001b[0;36m<module>\u001b[1;34m\u001b[0m\n\u001b[1;32m----> 1\u001b[1;33m \u001b[0mprint\u001b[0m\u001b[1;33m(\u001b[0m\u001b[0msval\u001b[0m\u001b[1;33m+\u001b[0m\u001b[1;36m1\u001b[0m\u001b[1;33m)\u001b[0m\u001b[1;33m\u001b[0m\u001b[1;33m\u001b[0m\u001b[0m\n\u001b[0m",
      "\u001b[1;31mTypeError\u001b[0m: can only concatenate str (not \"int\") to str"
     ]
    }
   ],
   "source": [
    "#Traceback error will be occur if combine two different types of data\n",
    "print(sval+1)"
   ]
  },
  {
   "cell_type": "code",
   "execution_count": 19,
   "id": "92927409",
   "metadata": {},
   "outputs": [
    {
     "data": {
      "text/plain": [
       "int"
      ]
     },
     "execution_count": 19,
     "metadata": {},
     "output_type": "execute_result"
    }
   ],
   "source": [
    "#if we convert into same type there's no error will be occur\n",
    "ival=int(sval)\n",
    "type(ival)"
   ]
  },
  {
   "cell_type": "code",
   "execution_count": 20,
   "id": "08d24c81",
   "metadata": {},
   "outputs": [
    {
     "name": "stdout",
     "output_type": "stream",
     "text": [
      "124\n"
     ]
    }
   ],
   "source": [
    "print(ival+1)"
   ]
  },
  {
   "cell_type": "code",
   "execution_count": null,
   "id": "08fc2fee",
   "metadata": {},
   "outputs": [],
   "source": []
  }
 ],
 "metadata": {
  "kernelspec": {
   "display_name": "Python 3 (ipykernel)",
   "language": "python",
   "name": "python3"
  },
  "language_info": {
   "codemirror_mode": {
    "name": "ipython",
    "version": 3
   },
   "file_extension": ".py",
   "mimetype": "text/x-python",
   "name": "python",
   "nbconvert_exporter": "python",
   "pygments_lexer": "ipython3",
   "version": "3.9.13"
  }
 },
 "nbformat": 4,
 "nbformat_minor": 5
}
