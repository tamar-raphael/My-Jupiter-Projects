{
 "cells": [
  {
   "cell_type": "markdown",
   "id": "bc00e131",
   "metadata": {},
   "source": [
    "# Chapter No.5"
   ]
  },
  {
   "cell_type": "markdown",
   "id": "b0719af6",
   "metadata": {},
   "source": [
    "## Example1"
   ]
  },
  {
   "cell_type": "code",
   "execution_count": 1,
   "id": "5295a253",
   "metadata": {},
   "outputs": [
    {
     "name": "stdout",
     "output_type": "stream",
     "text": [
      "5\n",
      "4\n",
      "3\n",
      "2\n",
      "1\n",
      "blastoff\n",
      "0\n"
     ]
    }
   ],
   "source": [
    "#iterations\n",
    "n=5\n",
    "while n>0:\n",
    "    print(n)\n",
    "    n=n-1\n",
    "print('blastoff')\n",
    "print(n)"
   ]
  },
  {
   "cell_type": "markdown",
   "id": "7b667c4f",
   "metadata": {},
   "source": [
    "## Example2"
   ]
  },
  {
   "cell_type": "code",
   "execution_count": 1,
   "id": "e383fa4e",
   "metadata": {},
   "outputs": [
    {
     "name": "stdout",
     "output_type": "stream",
     "text": [
      "dry off!\n"
     ]
    }
   ],
   "source": [
    "n=0\n",
    "while n>0:\n",
    "    print(\"lather\")\n",
    "    print(\"rinse\")\n",
    "print(\"dry off!\")"
   ]
  },
  {
   "cell_type": "markdown",
   "id": "5eb0096d",
   "metadata": {},
   "source": [
    "## Example3"
   ]
  },
  {
   "cell_type": "code",
   "execution_count": 4,
   "id": "77582794",
   "metadata": {},
   "outputs": [
    {
     "name": "stdout",
     "output_type": "stream",
     "text": [
      ">ut\n",
      ">ygtuy\n",
      ">done\n",
      "done!\n"
     ]
    }
   ],
   "source": [
    "#break statement will end the current loop and jump to the very next statement after the loop\n",
    "while True:\n",
    "    line=input(\">\")\n",
    "    if line=='done':\n",
    "        break\n",
    "        print(line)\n",
    "print('done!')"
   ]
  },
  {
   "cell_type": "markdown",
   "id": "d834d78e",
   "metadata": {},
   "source": [
    "## Example4"
   ]
  },
  {
   "cell_type": "code",
   "execution_count": 5,
   "id": "e08f6c44",
   "metadata": {},
   "outputs": [
    {
     "name": "stdout",
     "output_type": "stream",
     "text": [
      "> iyih\n",
      "iyih\n",
      "> uhui\n",
      "uhui\n",
      "> hui\n",
      "hui\n",
      "> #jhgk\n",
      "> done\n",
      "done!\n"
     ]
    }
   ],
   "source": [
    "#continue keyword will ends the current iteration and jumps to the top of the loop and start the next iteration\n",
    "while True:\n",
    "    line=input('> ')\n",
    "    if line[0]=='#':\n",
    "        continue\n",
    "    if line=='done':\n",
    "        break\n",
    "    print(line) \n",
    "print('done!')"
   ]
  },
  {
   "cell_type": "markdown",
   "id": "4b544b60",
   "metadata": {},
   "source": [
    "## Example5"
   ]
  },
  {
   "cell_type": "code",
   "execution_count": 7,
   "id": "22d1c5a5",
   "metadata": {},
   "outputs": [
    {
     "name": "stdout",
     "output_type": "stream",
     "text": [
      "1\n",
      "2\n",
      "3\n",
      "4\n",
      "5\n",
      "end of the loop\n"
     ]
    }
   ],
   "source": [
    "#for loop\n",
    "for i in [1,2,3,4,5]:\n",
    "    print(i)\n",
    "print('end of the loop')"
   ]
  },
  {
   "cell_type": "markdown",
   "id": "1bc2fe30",
   "metadata": {},
   "source": [
    "## Example6"
   ]
  },
  {
   "cell_type": "code",
   "execution_count": 9,
   "id": "ee689e9e",
   "metadata": {},
   "outputs": [
    {
     "name": "stdout",
     "output_type": "stream",
     "text": [
      "eman\n",
      "amna\n",
      "zoya\n",
      "tamer\n",
      "summon\n",
      "you all are beautiful souls\n"
     ]
    }
   ],
   "source": [
    "#for loop in strings\n",
    "friends=['eman','amna','zoya','tamer','summon']\n",
    "for i in friends:\n",
    "    print(i)\n",
    "print('you all are beautiful souls')"
   ]
  },
  {
   "cell_type": "markdown",
   "id": "f9b2bbdc",
   "metadata": {},
   "source": [
    "## Example7"
   ]
  },
  {
   "cell_type": "code",
   "execution_count": 16,
   "id": "12009d15",
   "metadata": {},
   "outputs": [
    {
     "name": "stdout",
     "output_type": "stream",
     "text": [
      "before -1\n",
      "5 5\n",
      "67 67\n",
      "87 87\n",
      "87 4\n",
      "87 7\n",
      "after 87\n"
     ]
    }
   ],
   "source": [
    "#finding the largest number\n",
    "largest_num=-1\n",
    "print('before',largest_num)\n",
    "for the_num in [5,67,87,4,7]:\n",
    "    if the_num > largest_num:\n",
    "        largest_num= the_num\n",
    "    print(largest_num,the_num)\n",
    "print('after',largest_num)        \n",
    "\n"
   ]
  },
  {
   "cell_type": "markdown",
   "id": "ee3981d7",
   "metadata": {},
   "source": [
    "## Example8"
   ]
  },
  {
   "cell_type": "code",
   "execution_count": 21,
   "id": "677a4a2c",
   "metadata": {},
   "outputs": [
    {
     "name": "stdout",
     "output_type": "stream",
     "text": [
      "before 0\n",
      "1 2\n",
      "2 23\n",
      "3 5\n",
      "4 7\n",
      "5 4\n",
      "6 44\n",
      "7 77\n",
      "8 12\n",
      "after 8\n"
     ]
    }
   ],
   "source": [
    "#counting in a loop\n",
    "zork=0\n",
    "print('before',zork)\n",
    "for thing in [2,23,5,7,4,44,77,12,]:\n",
    "    zork+=1\n",
    "    print(zork,thing)\n",
    "print('after',zork)"
   ]
  },
  {
   "cell_type": "markdown",
   "id": "fd75ee31",
   "metadata": {},
   "source": [
    "## Example9"
   ]
  },
  {
   "cell_type": "code",
   "execution_count": 23,
   "id": "9f5b8753",
   "metadata": {},
   "outputs": [
    {
     "name": "stdout",
     "output_type": "stream",
     "text": [
      "5 5\n",
      "49 44\n",
      "52 3\n",
      "74 22\n",
      "119 45\n",
      "126 7\n",
      "214 88\n",
      "259 45\n",
      "after 259\n"
     ]
    }
   ],
   "source": [
    "num=0\n",
    "for thing in [5,44,3,22,45,7,88,45]:\n",
    "    num=num+thing\n",
    "    print(num,thing)\n",
    "print('after',num)"
   ]
  },
  {
   "cell_type": "markdown",
   "id": "6c99446d",
   "metadata": {},
   "source": [
    "## Example10"
   ]
  },
  {
   "cell_type": "code",
   "execution_count": 27,
   "id": "1b3f1f9e",
   "metadata": {},
   "outputs": [
    {
     "name": "stdout",
     "output_type": "stream",
     "text": [
      "1 34 34\n",
      "2 78 44\n",
      "3 134 56\n",
      "4 211 77\n",
      "5 268 57\n",
      "6 313 45\n",
      "after 6 313 52.166666666666664\n"
     ]
    }
   ],
   "source": [
    "count=0\n",
    "sum=0\n",
    "for thing in [34,44,56,77,57,45]:\n",
    "    count=count+1\n",
    "    sum=sum+thing\n",
    "    avg=sum/count\n",
    "    print(count,sum,thing)\n",
    "print('after',count,sum, avg)\n"
   ]
  },
  {
   "cell_type": "markdown",
   "id": "67fb84f5",
   "metadata": {},
   "source": [
    "## Example11"
   ]
  },
  {
   "cell_type": "code",
   "execution_count": 29,
   "id": "162d4bdf",
   "metadata": {},
   "outputs": [
    {
     "name": "stdout",
     "output_type": "stream",
     "text": [
      "before\n",
      "large number 44\n",
      "large number 67\n",
      "large number 55\n",
      "large number 41\n",
      "large number 23\n",
      "after\n"
     ]
    }
   ],
   "source": [
    "#filtring in a loop\n",
    "print('before')\n",
    "for value in [44,6,67,5,55,41,23]:\n",
    "    if value > 20:\n",
    "        print('large number',value)\n",
    "print('after')"
   ]
  },
  {
   "cell_type": "markdown",
   "id": "1e3c62da",
   "metadata": {},
   "source": [
    "## Example12"
   ]
  },
  {
   "cell_type": "code",
   "execution_count": 2,
   "id": "ffb25990",
   "metadata": {},
   "outputs": [
    {
     "name": "stdout",
     "output_type": "stream",
     "text": [
      "before False\n",
      "found True\n"
     ]
    }
   ],
   "source": [
    "#searching using a boolean variable\n",
    "found=False\n",
    "print('before',found)\n",
    "for value in [45,75,47,92,87,9]:\n",
    "    if value==47:\n",
    "        found=True\n",
    "        print('found',True)"
   ]
  },
  {
   "cell_type": "markdown",
   "id": "00a70077",
   "metadata": {},
   "source": [
    "## Example13"
   ]
  },
  {
   "cell_type": "code",
   "execution_count": 4,
   "id": "368965f5",
   "metadata": {},
   "outputs": [
    {
     "name": "stdout",
     "output_type": "stream",
     "text": [
      "before\n",
      "1 1\n",
      "1 34\n",
      "1 56\n",
      "1 7\n",
      "1 44\n",
      "1 64\n",
      "1 69\n",
      "after 1\n"
     ]
    }
   ],
   "source": [
    "#finding the smallest value\n",
    "smallest=None\n",
    "print('before')\n",
    "for value in [1,34,56,7,44,64,69]:\n",
    "    if smallest is None:\n",
    "        smallest = value\n",
    "    elif value <  smallest:\n",
    "        smallest = value\n",
    "    print(smallest,value)\n",
    "print('after',smallest)"
   ]
  },
  {
   "cell_type": "code",
   "execution_count": null,
   "id": "2818fff1",
   "metadata": {},
   "outputs": [],
   "source": []
  }
 ],
 "metadata": {
  "kernelspec": {
   "display_name": "Python 3 (ipykernel)",
   "language": "python",
   "name": "python3"
  },
  "language_info": {
   "codemirror_mode": {
    "name": "ipython",
    "version": 3
   },
   "file_extension": ".py",
   "mimetype": "text/x-python",
   "name": "python",
   "nbconvert_exporter": "python",
   "pygments_lexer": "ipython3",
   "version": "3.9.13"
  }
 },
 "nbformat": 4,
 "nbformat_minor": 5
}
