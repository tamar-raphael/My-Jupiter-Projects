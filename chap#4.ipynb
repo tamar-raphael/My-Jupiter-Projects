{
 "cells": [
  {
   "cell_type": "markdown",
   "id": "e0646d96",
   "metadata": {},
   "source": [
    "# Chapter No.4"
   ]
  },
  {
   "cell_type": "markdown",
   "id": "1eddc45f",
   "metadata": {},
   "source": [
    "## Functions"
   ]
  },
  {
   "cell_type": "markdown",
   "id": "362bbd2a",
   "metadata": {},
   "source": [
    "## Example1"
   ]
  },
  {
   "cell_type": "code",
   "execution_count": 2,
   "id": "f3d9e795",
   "metadata": {},
   "outputs": [
    {
     "name": "stdout",
     "output_type": "stream",
     "text": [
      "w\n"
     ]
    }
   ],
   "source": [
    "big = max('Hello world')\n",
    "print(big)\n"
   ]
  },
  {
   "cell_type": "code",
   "execution_count": 3,
   "id": "478b557b",
   "metadata": {},
   "outputs": [
    {
     "name": "stdout",
     "output_type": "stream",
     "text": [
      " \n"
     ]
    }
   ],
   "source": [
    "tiny = min('Hello world')\n",
    "print(tiny)"
   ]
  },
  {
   "cell_type": "markdown",
   "id": "2cca6c0c",
   "metadata": {},
   "source": [
    "## Example2"
   ]
  },
  {
   "cell_type": "code",
   "execution_count": 5,
   "id": "7bff9095",
   "metadata": {},
   "outputs": [
    {
     "name": "stdout",
     "output_type": "stream",
     "text": [
      "0.99\n"
     ]
    },
    {
     "data": {
      "text/plain": [
       "int"
      ]
     },
     "execution_count": 5,
     "metadata": {},
     "output_type": "execute_result"
    }
   ],
   "source": [
    "print(float(99) / 100)\n",
    "i = 42\n",
    "type(i)\n",
    "\n"
   ]
  },
  {
   "cell_type": "code",
   "execution_count": 6,
   "id": "26a02803",
   "metadata": {},
   "outputs": [
    {
     "name": "stdout",
     "output_type": "stream",
     "text": [
      "42.0\n"
     ]
    },
    {
     "data": {
      "text/plain": [
       "float"
      ]
     },
     "execution_count": 6,
     "metadata": {},
     "output_type": "execute_result"
    }
   ],
   "source": [
    "f = float(i)\n",
    "print(f)\n",
    "type(f)\n"
   ]
  },
  {
   "cell_type": "code",
   "execution_count": 8,
   "id": "6fbe043f",
   "metadata": {},
   "outputs": [
    {
     "name": "stdout",
     "output_type": "stream",
     "text": [
      "-2.5\n"
     ]
    }
   ],
   "source": [
    "print(1 + 2 * float(3) / 4-5)"
   ]
  },
  {
   "cell_type": "markdown",
   "id": "bde48a9a",
   "metadata": {},
   "source": [
    "## Example3"
   ]
  },
  {
   "cell_type": "code",
   "execution_count": 9,
   "id": "dd657d83",
   "metadata": {},
   "outputs": [
    {
     "ename": "TypeError",
     "evalue": "can only concatenate str (not \"int\") to str",
     "output_type": "error",
     "traceback": [
      "\u001b[1;31m---------------------------------------------------------------------------\u001b[0m",
      "\u001b[1;31mTypeError\u001b[0m                                 Traceback (most recent call last)",
      "\u001b[1;32m~\\AppData\\Local\\Temp\\ipykernel_8744\\356970902.py\u001b[0m in \u001b[0;36m<module>\u001b[1;34m\u001b[0m\n\u001b[0;32m      3\u001b[0m \u001b[0mtype\u001b[0m\u001b[1;33m(\u001b[0m\u001b[0msval\u001b[0m\u001b[1;33m)\u001b[0m\u001b[1;33m\u001b[0m\u001b[1;33m\u001b[0m\u001b[0m\n\u001b[0;32m      4\u001b[0m \u001b[1;33m\u001b[0m\u001b[0m\n\u001b[1;32m----> 5\u001b[1;33m \u001b[0mprint\u001b[0m\u001b[1;33m(\u001b[0m\u001b[0msval\u001b[0m \u001b[1;33m+\u001b[0m \u001b[1;36m1\u001b[0m\u001b[1;33m)\u001b[0m\u001b[1;33m\u001b[0m\u001b[1;33m\u001b[0m\u001b[0m\n\u001b[0m",
      "\u001b[1;31mTypeError\u001b[0m: can only concatenate str (not \"int\") to str"
     ]
    }
   ],
   "source": [
    "#string conversion\n",
    "sval = '123'\n",
    "type(sval)\n",
    "\n",
    "print(sval + 1)"
   ]
  },
  {
   "cell_type": "code",
   "execution_count": 10,
   "id": "0a0aa124",
   "metadata": {},
   "outputs": [
    {
     "name": "stdout",
     "output_type": "stream",
     "text": [
      "124\n"
     ]
    },
    {
     "ename": "ValueError",
     "evalue": "invalid literal for int() with base 10: 'hello bob'",
     "output_type": "error",
     "traceback": [
      "\u001b[1;31m---------------------------------------------------------------------------\u001b[0m",
      "\u001b[1;31mValueError\u001b[0m                                Traceback (most recent call last)",
      "\u001b[1;32m~\\AppData\\Local\\Temp\\ipykernel_8744\\3772223684.py\u001b[0m in \u001b[0;36m<module>\u001b[1;34m\u001b[0m\n\u001b[0;32m      3\u001b[0m \u001b[0mprint\u001b[0m\u001b[1;33m(\u001b[0m\u001b[0mival\u001b[0m \u001b[1;33m+\u001b[0m \u001b[1;36m1\u001b[0m\u001b[1;33m)\u001b[0m\u001b[1;33m\u001b[0m\u001b[1;33m\u001b[0m\u001b[0m\n\u001b[0;32m      4\u001b[0m \u001b[0mnsv\u001b[0m \u001b[1;33m=\u001b[0m \u001b[1;34m'hello bob'\u001b[0m\u001b[1;33m\u001b[0m\u001b[1;33m\u001b[0m\u001b[0m\n\u001b[1;32m----> 5\u001b[1;33m \u001b[0mniv\u001b[0m \u001b[1;33m=\u001b[0m \u001b[0mint\u001b[0m\u001b[1;33m(\u001b[0m\u001b[0mnsv\u001b[0m\u001b[1;33m)\u001b[0m\u001b[1;33m\u001b[0m\u001b[1;33m\u001b[0m\u001b[0m\n\u001b[0m",
      "\u001b[1;31mValueError\u001b[0m: invalid literal for int() with base 10: 'hello bob'"
     ]
    }
   ],
   "source": [
    "ival = int(sval)\n",
    "type(ival)\n",
    "print(ival + 1)\n",
    "nsv = 'hello bob'\n",
    "niv = int(nsv)"
   ]
  },
  {
   "cell_type": "markdown",
   "id": "9978e5aa",
   "metadata": {},
   "source": [
    "## Example4"
   ]
  },
  {
   "cell_type": "code",
   "execution_count": 13,
   "id": "d8df6d03",
   "metadata": {},
   "outputs": [
    {
     "name": "stdout",
     "output_type": "stream",
     "text": [
      "Hello\n",
      "Yo\n",
      "I'm a lumberjack, and I'm okay.\n",
      "I sleep all night and I work all day.\n",
      "7\n"
     ]
    }
   ],
   "source": [
    "x = 5\n",
    "print('Hello')\n",
    "def print_lyrics(): \n",
    "    print(\"I'm a lumberjack, and I'm okay.\")\n",
    "    print('I sleep all night and I work all day.')\n",
    "print('Yo')\n",
    "print_lyrics()\n",
    "x = x + 2\n",
    "print(x)"
   ]
  },
  {
   "cell_type": "markdown",
   "id": "ae7cc49c",
   "metadata": {},
   "source": [
    "## Example5"
   ]
  },
  {
   "cell_type": "code",
   "execution_count": 15,
   "id": "cd58b607",
   "metadata": {},
   "outputs": [
    {
     "name": "stdout",
     "output_type": "stream",
     "text": [
      "Hello\n",
      "Hola\n",
      "Bonjour\n"
     ]
    }
   ],
   "source": [
    "#parameters\n",
    "def greet(lang):\n",
    "    if lang == 'es':\n",
    "        print('Hola')\n",
    "    elif lang == 'fr':\n",
    "        print('Bonjour')\n",
    "    else:\n",
    "        print('Hello')\n",
    "greet('en')\n",
    "greet('es')\n",
    "greet('fr')"
   ]
  },
  {
   "cell_type": "markdown",
   "id": "e00a9eb3",
   "metadata": {},
   "source": [
    "## Example6"
   ]
  },
  {
   "cell_type": "code",
   "execution_count": 16,
   "id": "f18c40e2",
   "metadata": {},
   "outputs": [
    {
     "name": "stdout",
     "output_type": "stream",
     "text": [
      "Hello Glenn\n",
      "Hello Sally\n"
     ]
    }
   ],
   "source": [
    "#return value\n",
    "def greet():\n",
    "    return \"Hello\"\n",
    "print(greet(), \"Glenn\")\n",
    "print(greet(), \"Sally\")"
   ]
  },
  {
   "cell_type": "markdown",
   "id": "f669a7e2",
   "metadata": {},
   "source": [
    "## Example7"
   ]
  },
  {
   "cell_type": "code",
   "execution_count": 17,
   "id": "28be9f19",
   "metadata": {},
   "outputs": [
    {
     "name": "stdout",
     "output_type": "stream",
     "text": [
      "Hello Glenn\n",
      "Hola Sally\n",
      "Bonjour Michael\n"
     ]
    }
   ],
   "source": [
    "#return value\n",
    "def greet(lang):\n",
    "    if lang == 'es':\n",
    "        return 'Hola'\n",
    "    elif lang == 'fr':\n",
    "        return 'Bonjour'\n",
    "    else:\n",
    "        return 'Hello'\n",
    "print(greet('en'),'Glenn')\n",
    "\n",
    "print(greet('es'),'Sally')\n",
    "\n",
    "print(greet('fr'),'Michael')"
   ]
  },
  {
   "cell_type": "markdown",
   "id": "dabb3a0c",
   "metadata": {},
   "source": [
    "## Example8"
   ]
  },
  {
   "cell_type": "code",
   "execution_count": 19,
   "id": "5461363c",
   "metadata": {},
   "outputs": [
    {
     "name": "stdout",
     "output_type": "stream",
     "text": [
      "8\n"
     ]
    }
   ],
   "source": [
    "#multiple aurguments and parameters\n",
    "def addtwo(a, b):\n",
    "    added = a + b\n",
    "    return added\n",
    "x = addtwo(3, 5)\n",
    "print(x)"
   ]
  },
  {
   "cell_type": "markdown",
   "id": "d2f0bea8",
   "metadata": {},
   "source": [
    "## Exercise"
   ]
  },
  {
   "cell_type": "code",
   "execution_count": 40,
   "id": "9ac7cf43",
   "metadata": {},
   "outputs": [
    {
     "name": "stdout",
     "output_type": "stream",
     "text": [
      "Your pay this month 2997.0\n"
     ]
    }
   ],
   "source": [
    "def computepay(hours,rate):\n",
    "    pay =('Your pay this month ' + str((hours + hours/2) * rate))\n",
    "    return pay \n",
    "computepay(45,10)\n",
    "print(pay)\n"
   ]
  },
  {
   "cell_type": "code",
   "execution_count": null,
   "id": "066cfda8",
   "metadata": {},
   "outputs": [],
   "source": []
  },
  {
   "cell_type": "code",
   "execution_count": null,
   "id": "93b5ef67",
   "metadata": {},
   "outputs": [],
   "source": []
  }
 ],
 "metadata": {
  "kernelspec": {
   "display_name": "Python 3 (ipykernel)",
   "language": "python",
   "name": "python3"
  },
  "language_info": {
   "codemirror_mode": {
    "name": "ipython",
    "version": 3
   },
   "file_extension": ".py",
   "mimetype": "text/x-python",
   "name": "python",
   "nbconvert_exporter": "python",
   "pygments_lexer": "ipython3",
   "version": "3.9.13"
  }
 },
 "nbformat": 4,
 "nbformat_minor": 5
}
